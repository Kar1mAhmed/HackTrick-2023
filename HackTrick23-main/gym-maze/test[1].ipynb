{
 "cells": [
  {
   "cell_type": "code",
   "execution_count": 1,
   "id": "4a5422e7",
   "metadata": {},
   "outputs": [
    {
     "name": "stdout",
     "output_type": "stream",
     "text": [
      "pygame 2.2.0 (SDL 2.0.22, Python 3.7.11)\n",
      "Hello from the pygame community. https://www.pygame.org/contribute.html\n"
     ]
    }
   ],
   "source": [
    "import numpy as np\n",
    "import gym_maze.envs.maze_env as maze"
   ]
  },
  {
   "cell_type": "code",
   "execution_count": 2,
   "id": "50feaaa7",
   "metadata": {},
   "outputs": [],
   "source": [
    "import matplotlib.pyplot as plt\n"
   ]
  },
  {
   "cell_type": "code",
   "execution_count": 3,
   "id": "5162bc72",
   "metadata": {},
   "outputs": [],
   "source": [
    "import gym\n",
    "import cv2\n",
    "# gray scaled observation\n",
    "class MyEnv(maze.MazeEnv):\n",
    "    def __init__(self,obs_shape=(250,250),**kwargs):\n",
    "        self.obs_shape = obs_shape\n",
    "        super().__init__(**kwargs)\n",
    "        rescue_item_locs = self.maze_view.rescue_item_locations\n",
    "        maze_size = self.maze_view.maze_size\n",
    "        self.final_pos = (maze_size[0]-1,maze_size[1]-1)\n",
    "        shape=  obs_shape+(1,)\n",
    "        self.observation_space = gym.spaces.Box(low=0,high=255,shape=shape,dtype=np.uint8)\n",
    "        self.obs_shape = obs_shape\n",
    "        self.MIN_REWARD = -1\n",
    "        self.MAX_REWARD = 1\n",
    "        self.target_locs = rescue_item_locs+[self.final_pos]\n",
    "        self.prev_pos = (0,0)\n",
    "        self.total_reward = 0\n",
    "        self.MIN_REWARD_TH = -100  \n",
    "        self.MAXIMUM_CRASHES = 50 \n",
    "        self.keys = ['N', 'E', 'S', 'W']\n",
    "        \n",
    "    def _get_reward(self,cur_pos):\n",
    "        terminated = False\n",
    "        if cur_pos==self.prev_pos:\n",
    "            self.count_crash+=1\n",
    "            reward = self.MIN_REWARD\n",
    "            if self.count_crash> self.MAXIMUM_CRASHES:\n",
    "                terminated = True\n",
    "            \n",
    "            \n",
    "        elif cur_pos in self.target_locs:\n",
    "            if cur_pos == self.final_pos and len(self.target_locs)!=1:\n",
    "                reward = self.MIN_REWARD+0.5\n",
    "                terminated = True         \n",
    "            else:\n",
    "                idx = self.target_locs.index(cur_pos)\n",
    "                reward = self.MAX_REWARD/len(self.target_locs)\n",
    "                del self.target_locs[idx]         \n",
    "        else:\n",
    "            reward = -0.05\n",
    "   \n",
    "        self.prev_pos = cur_pos\n",
    "        return reward,terminated\n",
    "    def step(self,action):\n",
    "        action = int(action)\n",
    "        action = self.keys[action]\n",
    "        logs,_,_,_,info = super().step(action)\n",
    "        \n",
    "        reward,terminated = self._get_reward(tuple(logs[0]))\n",
    "        self.total_reward+=reward\n",
    "        if self.total_reward<self.MIN_REWARD_TH or len(self.target_locs)==0:\n",
    "            terminated = True\n",
    "        state = self.observation()\n",
    "        return state,reward,terminated,info\n",
    "    \n",
    "    def observation(self):\n",
    "        state = self.maze_view.update('rgb_array')\n",
    "        state = cv2.cvtColor(state,cv2.COLOR_RGB2GRAY)\n",
    "        state = cv2.resize(state,self.obs_shape)\n",
    "        return state.reshape(state.shape+(1,))\n",
    "    \n",
    "    def reset(self):\n",
    "        super().reset()\n",
    "        self.count_crash = 0\n",
    "        self.total_reward = 0\n",
    "        self.prev_pos = (0,0)\n",
    "        state = self.observation()\n",
    "        return state"
   ]
  },
  {
   "cell_type": "code",
   "execution_count": 4,
   "id": "00691b3f",
   "metadata": {},
   "outputs": [],
   "source": [
    "env = MyEnv(maze_file='hackathon_sample.npy',rescue_item_locations=[(5,4),(2,3),(4,5),(2,1)])"
   ]
  },
  {
   "cell_type": "code",
   "execution_count": 5,
   "id": "a2791f3f",
   "metadata": {},
   "outputs": [
    {
     "data": {
      "text/plain": [
       "<matplotlib.image.AxesImage at 0x25623467748>"
      ]
     },
     "execution_count": 5,
     "metadata": {},
     "output_type": "execute_result"
    },
    {
     "data": {
      "image/png": "[encoded data removed]",
      "text/plain": [
       "<Figure size 432x288 with 1 Axes>"
      ]
     },
     "metadata": {
      "needs_background": "light"
     },
     "output_type": "display_data"
    }
   ],
   "source": [
    "s= env.reset()\n",
    "plt.imshow(s)"
   ]
  },
  {
   "cell_type": "code",
   "execution_count": 6,
   "id": "d5c59775",
   "metadata": {},
   "outputs": [
    {
     "data": {
      "text/plain": [
       "<matplotlib.image.AxesImage at 0x25625264f88>"
      ]
     },
     "execution_count": 6,
     "metadata": {},
     "output_type": "execute_result"
    },
    {
     "data": {
      "image/png": "[encoded data removed]",
      "text/plain": [
       "<Figure size 432x288 with 1 Axes>"
      ]
     },
     "metadata": {
      "needs_background": "light"
     },
     "output_type": "display_data"
    }
   ],
   "source": [
    "plt.imshow(env.step(2)[0])"
   ]
  },
  {
   "cell_type": "code",
   "execution_count": 7,
   "id": "265a1e94",
   "metadata": {},
   "outputs": [
    {
     "name": "stderr",
     "output_type": "stream",
     "text": [
      "C:\\Users\\HP\\anaconda3\\envs\\vip\\lib\\site-packages\\torch\\cuda\\__init__.py:82: UserWarning: CUDA initialization: CUDA driver initialization failed, you might not have a CUDA gpu. (Triggered internally at  C:\\cb\\pytorch_1000000000000\\work\\c10\\cuda\\CUDAFunctions.cpp:112.)\n",
      "  return torch._C._cuda_getDeviceCount() > 0\n"
     ]
    }
   ],
   "source": [
    "from stable_baselines3 import DQN\n",
    "model = DQN(\"CnnPolicy\",env,buffer_size=10000,tensorboard_log='./logs/')"
   ]
  },
  {
   "cell_type": "code",
   "execution_count": 8,
   "id": "47aa528c",
   "metadata": {},
   "outputs": [
    {
     "data": {
      "text/plain": [
       "<stable_baselines3.dqn.dqn.DQN at 0x2562ab430c8>"
      ]
     },
     "execution_count": 8,
     "metadata": {},
     "output_type": "execute_result"
    }
   ],
   "source": [
    "model.learn(5000)"
   ]
  },
  {
   "cell_type": "code",
   "execution_count": 9,
   "id": "17a48c3a",
   "metadata": {},
   "outputs": [
    {
     "name": "stdout",
     "output_type": "stream",
     "text": [
      "^C\n"
     ]
    }
   ],
   "source": [
    "!tensorboard --logdir ./logs/"
   ]
  },
  {
   "cell_type": "code",
   "execution_count": 10,
   "id": "8da8c5cf",
   "metadata": {},
   "outputs": [],
   "source": [
    "done = False\n",
    "state = env.reset()\n",
    "states=[state]\n",
    "acts = []\n",
    "rewards =[]\n",
    "while not done:\n",
    "    action,_ = model.predict(state)\n",
    "    next_state,reward,done,info = env.step(action)\n",
    "    rewards.append(reward)\n",
    "    states.append(next_state)\n",
    "    acts.append(action)\n",
    "    \n",
    "    \n",
    "    "
   ]
  },
  {
   "cell_type": "code",
   "execution_count": 17,
   "id": "b4a7febb",
   "metadata": {},
   "outputs": [
    {
     "data": {
      "text/plain": [
       "0"
      ]
     },
     "execution_count": 17,
     "metadata": {},
     "output_type": "execute_result"
    }
   ],
   "source": [
    "env.reset()\n",
    "env.total_reward"
   ]
  },
  {
   "cell_type": "code",
   "execution_count": 12,
   "id": "3fb2f45b",
   "metadata": {},
   "outputs": [
    {
     "name": "stderr",
     "output_type": "stream",
     "text": [
      "C:\\Users\\HP\\anaconda3\\envs\\vip\\lib\\site-packages\\ipykernel_launcher.py:17: DeprecationWarning: Starting with ImageIO v3 the behavior of this function will switch to that of iio.v3.imread. To keep the current behavior (and make this warning disappear) use `import imageio.v2 as imageio` or call `imageio.v2.imread` directly.\n"
     ]
    }
   ],
   "source": [
    "import os\n",
    "import imageio\n",
    "import shutil\n",
    "def make_gif(imgs,name='movie'):\n",
    "    path = 'imgs'\n",
    "    if os.path.exists(path):\n",
    "        shutil.rmtree(path) \n",
    "    os.makedirs(path)\n",
    "    ps = []\n",
    "    for i, img in enumerate(imgs):\n",
    "        p = os.path.join(path,f'img_{i+1}.jpg')\n",
    "        cv2.imwrite(p,img)\n",
    "        ps.append(p)\n",
    "        \n",
    "    with imageio.get_writer(f'{name}.gif', mode='I') as writer:\n",
    "        for p in ps:\n",
    "            image = imageio.imread(p)\n",
    "            writer.append_data(image)\n",
    "           \n",
    "        \n",
    "        \n",
    "make_gif(states)   "
   ]
  },
  {
   "cell_type": "code",
   "execution_count": 11,
   "id": "efe98c32",
   "metadata": {},
   "outputs": [
    {
     "data": {
      "text/plain": [
       "[<matplotlib.lines.Line2D at 0x2561868e848>]"
      ]
     },
     "execution_count": 11,
     "metadata": {},
     "output_type": "execute_result"
    },
    {
     "data": {
      "image/png": "[encoded data removed]",
      "text/plain": [
       "<Figure size 432x288 with 1 Axes>"
      ]
     },
     "metadata": {
      "needs_background": "light"
     },
     "output_type": "display_data"
    }
   ],
   "source": [
    "plt.plot(rewards)"
   ]
  },
  {
   "cell_type": "code",
   "execution_count": 34,
   "id": "6c8cd7ea",
   "metadata": {},
   "outputs": [
    {
     "data": {
      "text/plain": [
       "[(5, 4), (2, 3), (9, 9)]"
      ]
     },
     "execution_count": 34,
     "metadata": {},
     "output_type": "execute_result"
    }
   ],
   "source": []
  },
  {
   "cell_type": "code",
   "execution_count": null,
   "id": "70b0cdb8",
   "metadata": {},
   "outputs": [],
   "source": []
  }
 ],
 "metadata": {
  "kernelspec": {
   "display_name": "Python 3 (ipykernel)",
   "language": "python",
   "name": "python3"
  },
  "language_info": {
   "codemirror_mode": {
    "name": "ipython",
    "version": 3
   },
   "file_extension": ".py",
   "mimetype": "text/x-python",
   "name": "python",
   "nbconvert_exporter": "python",
   "pygments_lexer": "ipython3",
   "version": "3.7.11"
  }
 },
 "nbformat": 4,
 "nbformat_minor": 5
}
