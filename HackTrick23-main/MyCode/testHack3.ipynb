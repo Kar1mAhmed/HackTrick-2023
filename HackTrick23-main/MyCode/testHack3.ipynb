{
 "cells": [
  {
   "cell_type": "code",
   "execution_count": 1,
   "metadata": {},
   "outputs": [
    {
     "name": "stdout",
     "output_type": "stream",
     "text": [
      "pygame 2.1.2 (SDL 2.0.18, Python 3.10.10)\n",
      "Hello from the pygame community. https://www.pygame.org/contribute.html\n"
     ]
    },
    {
     "ename": "ValueError",
     "evalue": "too many values to unpack (expected 4)",
     "output_type": "error",
     "traceback": [
      "\u001b[1;31m---------------------------------------------------------------------------\u001b[0m",
      "\u001b[1;31mValueError\u001b[0m                                Traceback (most recent call last)",
      "Cell \u001b[1;32mIn[1], line 70\u001b[0m\n\u001b[0;32m     66\u001b[0m MAX_T \u001b[39m=\u001b[39m \u001b[39m5000\u001b[39m\n\u001b[0;32m     67\u001b[0m RENDER_MAZE \u001b[39m=\u001b[39m \u001b[39mTrue\u001b[39;00m\n\u001b[1;32m---> 70\u001b[0m local_inference(riddle_solvers)\n\u001b[0;32m     72\u001b[0m \u001b[39mwith\u001b[39;00m \u001b[39mopen\u001b[39m(\u001b[39m\"\u001b[39m\u001b[39m./states.json\u001b[39m\u001b[39m\"\u001b[39m, \u001b[39m\"\u001b[39m\u001b[39mw\u001b[39m\u001b[39m\"\u001b[39m) \u001b[39mas\u001b[39;00m file:\n\u001b[0;32m     73\u001b[0m     json\u001b[39m.\u001b[39mdump(states, file)\n",
      "Cell \u001b[1;32mIn[1], line 30\u001b[0m, in \u001b[0;36mlocal_inference\u001b[1;34m(riddle_solvers)\u001b[0m\n\u001b[0;32m     28\u001b[0m state_0 \u001b[39m=\u001b[39m obv\n\u001b[0;32m     29\u001b[0m action, action_index \u001b[39m=\u001b[39m select_action(state_0) \u001b[39m# Random action\u001b[39;00m\n\u001b[1;32m---> 30\u001b[0m obv, reward, terminated, truncated, info \u001b[39m=\u001b[39m manager\u001b[39m.\u001b[39;49mstep(agent_id, action)\n\u001b[0;32m     32\u001b[0m \u001b[39mif\u001b[39;00m \u001b[39mnot\u001b[39;00m info[\u001b[39m'\u001b[39m\u001b[39mriddle_type\u001b[39m\u001b[39m'\u001b[39m] \u001b[39m==\u001b[39m \u001b[39mNone\u001b[39;00m:\n\u001b[0;32m     33\u001b[0m     solution \u001b[39m=\u001b[39m riddle_solvers[info[\u001b[39m'\u001b[39m\u001b[39mriddle_type\u001b[39m\u001b[39m'\u001b[39m]](info[\u001b[39m'\u001b[39m\u001b[39mriddle_question\u001b[39m\u001b[39m'\u001b[39m])\n",
      "File \u001b[1;32me:\\Coding\\DEll Winers\\Hack3\\Hacktrcik3\\gym-maze\\gym_maze\\envs\\maze_manager.py:104\u001b[0m, in \u001b[0;36mMazeManager.step\u001b[1;34m(self, agent_id, action)\u001b[0m\n\u001b[0;32m    103\u001b[0m \u001b[39mdef\u001b[39;00m \u001b[39mstep\u001b[39m(\u001b[39mself\u001b[39m, agent_id, action):\n\u001b[1;32m--> 104\u001b[0m     obv, reward, terminated, truncated, info \u001b[39m=\u001b[39m \u001b[39mself\u001b[39;49m\u001b[39m.\u001b[39;49mmaze_map[agent_id]\u001b[39m.\u001b[39;49mstep(action)\n\u001b[0;32m    105\u001b[0m     \u001b[39mif\u001b[39;00m \u001b[39mtuple\u001b[39m(obv[\u001b[39m0\u001b[39m]) \u001b[39min\u001b[39;00m \u001b[39mself\u001b[39m\u001b[39m.\u001b[39mrescue_items_dict:\n\u001b[0;32m    106\u001b[0m         riddle_type \u001b[39m=\u001b[39m \u001b[39mself\u001b[39m\u001b[39m.\u001b[39mrescue_items_dict[\u001b[39mtuple\u001b[39m(obv[\u001b[39m0\u001b[39m])]\n",
      "File \u001b[1;32mc:\\Users\\karim\\AppData\\Local\\Programs\\Python\\Python310\\lib\\site-packages\\gym\\wrappers\\time_limit.py:18\u001b[0m, in \u001b[0;36mTimeLimit.step\u001b[1;34m(self, action)\u001b[0m\n\u001b[0;32m     14\u001b[0m \u001b[39mdef\u001b[39;00m \u001b[39mstep\u001b[39m(\u001b[39mself\u001b[39m, action):\n\u001b[0;32m     15\u001b[0m     \u001b[39massert\u001b[39;00m (\n\u001b[0;32m     16\u001b[0m         \u001b[39mself\u001b[39m\u001b[39m.\u001b[39m_elapsed_steps \u001b[39mis\u001b[39;00m \u001b[39mnot\u001b[39;00m \u001b[39mNone\u001b[39;00m\n\u001b[0;32m     17\u001b[0m     ), \u001b[39m\"\u001b[39m\u001b[39mCannot call env.step() before calling reset()\u001b[39m\u001b[39m\"\u001b[39m\n\u001b[1;32m---> 18\u001b[0m     observation, reward, done, info \u001b[39m=\u001b[39m \u001b[39mself\u001b[39m\u001b[39m.\u001b[39menv\u001b[39m.\u001b[39mstep(action)\n\u001b[0;32m     19\u001b[0m     \u001b[39mself\u001b[39m\u001b[39m.\u001b[39m_elapsed_steps \u001b[39m+\u001b[39m\u001b[39m=\u001b[39m \u001b[39m1\u001b[39m\n\u001b[0;32m     20\u001b[0m     \u001b[39mif\u001b[39;00m \u001b[39mself\u001b[39m\u001b[39m.\u001b[39m_elapsed_steps \u001b[39m>\u001b[39m\u001b[39m=\u001b[39m \u001b[39mself\u001b[39m\u001b[39m.\u001b[39m_max_episode_steps:\n",
      "\u001b[1;31mValueError\u001b[0m: too many values to unpack (expected 4)"
     ]
    }
   ],
   "source": [
    "import sys\n",
    "import numpy as np\n",
    "import math\n",
    "import random\n",
    "import json\n",
    "import requests\n",
    "\n",
    "import gym\n",
    "import gym_maze\n",
    "from gym_maze.envs.maze_manager import MazeManager\n",
    "from riddle_solvers import *\n",
    "\n",
    "def select_action(state):\n",
    "    # This is a random agent \n",
    "    # This function should get actions from your trained agent when inferencing.\n",
    "    actions = ['N', 'S', 'E', 'W']\n",
    "    random_action = random.choice(actions)\n",
    "    action_index = actions.index(random_action)\n",
    "    return random_action, action_index\n",
    "\n",
    "\n",
    "def local_inference(riddle_solvers):\n",
    "\n",
    "    obv = manager.reset(agent_id)\n",
    "\n",
    "    for t in range(MAX_T):\n",
    "        # Select an action\n",
    "        state_0 = obv\n",
    "        action, action_index = select_action(state_0) # Random action\n",
    "        obv, reward, terminated, truncated, info = manager.step(agent_id, action)\n",
    "\n",
    "        if not info['riddle_type'] == None:\n",
    "            solution = riddle_solvers[info['riddle_type']](info['riddle_question'])\n",
    "            obv, reward, terminated, truncated, info = manager.solve_riddle(info['riddle_type'], agent_id, solution)\n",
    "\n",
    "        # THIS IS A SAMPLE TERMINATING CONDITION WHEN THE AGENT REACHES THE EXIT\n",
    "        # IMPLEMENT YOUR OWN TERMINATING CONDITION\n",
    "        if np.array_equal(obv[0], (9,9)):\n",
    "            manager.set_done(agent_id)\n",
    "            break # Stop Agent\n",
    "\n",
    "        if RENDER_MAZE:\n",
    "            manager.render(agent_id)\n",
    "\n",
    "        states[t] = [obv[0].tolist(), action_index, str(manager.get_rescue_items_status(agent_id))]       \n",
    "        \n",
    "\n",
    "\n",
    "if __name__ == \"__main__\":\n",
    "\n",
    "    sample_maze = np.load(\"hackathon_sample.npy\")\n",
    "    agent_id = \"9\" # add your agent id here\n",
    "    \n",
    "    manager = MazeManager()\n",
    "    manager.init_maze(agent_id, maze_cells=sample_maze)\n",
    "    env = manager.maze_map[agent_id]\n",
    "\n",
    "    riddle_solvers = {'cipher': cipher_solver, 'captcha': captcha_solver, 'pcap': pcap_solver, 'server': server_solver}\n",
    "    maze = {}\n",
    "    states = {}\n",
    "\n",
    "    \n",
    "    maze['maze'] = env.maze_view.maze.maze_cells.tolist()\n",
    "    maze['rescue_items'] = list(manager.rescue_items_dict.keys())\n",
    "\n",
    "    MAX_T = 5000\n",
    "    RENDER_MAZE = True\n",
    "    \n",
    "\n",
    "    local_inference(riddle_solvers)\n",
    "\n",
    "    with open(\"./states.json\", \"w\") as file:\n",
    "        json.dump(states, file)\n",
    "\n",
    "    \n",
    "    with open(\"./maze.json\", \"w\") as file:\n",
    "        json.dump(maze, file)\n",
    "    "
   ]
  },
  {
   "cell_type": "code",
   "execution_count": null,
   "metadata": {},
   "outputs": [],
   "source": []
  }
 ],
 "metadata": {
  "kernelspec": {
   "display_name": "Python 3",
   "language": "python",
   "name": "python3"
  },
  "language_info": {
   "codemirror_mode": {
    "name": "ipython",
    "version": 3
   },
   "file_extension": ".py",
   "mimetype": "text/x-python",
   "name": "python",
   "nbconvert_exporter": "python",
   "pygments_lexer": "ipython3",
   "version": "3.10.10"
  },
  "orig_nbformat": 4
 },
 "nbformat": 4,
 "nbformat_minor": 2
}
