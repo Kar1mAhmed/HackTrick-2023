{
 "cells": [
  {
   "cell_type": "code",
   "execution_count": 31,
   "metadata": {},
   "outputs": [
    {
     "ename": "ModuleNotFoundError",
     "evalue": "No module named 'gym_maze'",
     "output_type": "error",
     "traceback": [
      "\u001b[1;31m---------------------------------------------------------------------------\u001b[0m",
      "\u001b[1;31mModuleNotFoundError\u001b[0m                       Traceback (most recent call last)",
      "Cell \u001b[1;32mIn[31], line 9\u001b[0m\n\u001b[0;32m      6\u001b[0m \u001b[39mimport\u001b[39;00m \u001b[39mrequests\u001b[39;00m\n\u001b[0;32m      8\u001b[0m \u001b[39mimport\u001b[39;00m \u001b[39mgym\u001b[39;00m\n\u001b[1;32m----> 9\u001b[0m \u001b[39mimport\u001b[39;00m \u001b[39mgym_maze\u001b[39;00m\n\u001b[0;32m     10\u001b[0m \u001b[39mfrom\u001b[39;00m \u001b[39mgym_maze\u001b[39;00m\u001b[39m.\u001b[39;00m\u001b[39menvs\u001b[39;00m\u001b[39m.\u001b[39;00m\u001b[39mmaze_manager\u001b[39;00m \u001b[39mimport\u001b[39;00m MazeManager\n\u001b[0;32m     11\u001b[0m \u001b[39mfrom\u001b[39;00m \u001b[39mriddle_solvers\u001b[39;00m \u001b[39mimport\u001b[39;00m \u001b[39m*\u001b[39m\n",
      "\u001b[1;31mModuleNotFoundError\u001b[0m: No module named 'gym_maze'"
     ]
    }
   ],
   "source": [
    "import sys\n",
    "import numpy as np\n",
    "import math\n",
    "import random\n",
    "import json\n",
    "import requests\n",
    "\n",
    "import gym\n",
    "import gym_maze\n",
    "from gym_maze.envs.maze_manager import MazeManager\n",
    "from riddle_solvers import *\n",
    "import pygame\n",
    "from collections import deque\n",
    "\n",
    "\n",
    "import torch\n",
    "import time\n",
    "from collections import deque\n",
    "import torch.nn as nn\n",
    "import torch.nn.functional as F\n",
    "import torch.optim as optim\n",
    "from torch.distributions import Categorical"
   ]
  },
  {
   "cell_type": "code",
   "execution_count": null,
   "metadata": {},
   "outputs": [
    {
     "data": {
      "text/plain": [
       "'NVIDIA GeForce RTX 3050 Laptop GPU'"
      ]
     },
     "execution_count": 2,
     "metadata": {},
     "output_type": "execute_result"
    }
   ],
   "source": [
    "device = torch.device(\"cuda:0\" if torch.cuda.is_available() else \"cpu\")\n",
    "device_name = torch.cuda.get_device_name(torch.cuda.current_device())\n",
    "device_name"
   ]
  },
  {
   "cell_type": "code",
   "execution_count": null,
   "metadata": {},
   "outputs": [],
   "source": [
    "sample_maze = np.load(\"hackathon_sample.npy\")\n",
    "agent_id = \"9\" # add your agent id here\n",
    "    \n",
    "manager = MazeManager()\n",
    "manager.init_maze(agent_id, maze_cells=sample_maze)\n",
    "env = manager.maze_map[agent_id]"
   ]
  },
  {
   "cell_type": "code",
   "execution_count": null,
   "metadata": {},
   "outputs": [],
   "source": [
    "class ActorCritic(nn.Module):\n",
    "    def __init__(self, input_dim, output_dim):\n",
    "        super().__init__()\n",
    "        self.input_dim = input_dim\n",
    "        self.output_dim = output_dim\n",
    "        \n",
    "        self.L1 = nn.Linear(self.input_dim, 32)\n",
    "        self.L2 = nn.Linear(32, 64)\n",
    "        self.L3 = nn.Linear(64, 64)\n",
    "        self.L4 = nn.Linear(64, 32)\n",
    "        self.L5 = nn.Linear(32, 16)\n",
    "        self.L6 = nn.Linear(16,self.output_dim)\n",
    "        \n",
    "        \n",
    "\n",
    "    def forward(self, x):\n",
    "        x = F.relu(self.L1(x))\n",
    "        x = F.relu(self.L2(x))\n",
    "        x = F.relu(self.L3(x))\n",
    "        x = F.relu(self.L4(x))\n",
    "        x = F.relu(self.L5(x))\n",
    "        x = F.relu(self.L6(x))\n",
    "        x = F.softmax(x, dim=1)\n",
    "        return x\n",
    "\n",
    "    \n",
    "    def act(self, state):\n",
    "        state = torch.from_numpy(state).float().unsqueeze(0).to(device) # setting the state to tensor with the input shape\n",
    "        probs = self.forward(state).cpu()\n",
    "        m = Categorical(probs)\n",
    "        action = m.sample()\n",
    "        return action.item(), m.log_prob(action)\n"
   ]
  },
  {
   "cell_type": "code",
   "execution_count": null,
   "metadata": {},
   "outputs": [],
   "source": [
    "def fix_state(state):\n",
    "    state0 = state[0]\n",
    "    state1 = state[1]\n",
    "    state2 = state[2]\n",
    "    \n",
    "    ans = []\n",
    "    for i in state0:\n",
    "        ans.append(i)\n",
    "    for i in state1:\n",
    "        ans.append(i)\n",
    "    for i in state2:\n",
    "        for j in i:\n",
    "            ans.append(j)\n",
    "    return np.array(ans)"
   ]
  },
  {
   "cell_type": "code",
   "execution_count": null,
   "metadata": {},
   "outputs": [],
   "source": [
    "def reinforce(policy, optimizer, n_training_episodes, max_t, gamma, print_every):\n",
    "    scores_deque = deque(maxlen=100)\n",
    "    scores = []\n",
    "    agent_id = '9'\n",
    "    Actions = ['N', 'S', 'E', 'W']\n",
    "    for episode in range(1, n_training_episodes + 1):\n",
    "        state = manager.reset(agent_id)\n",
    "        saved_log_probs = []\n",
    "        rewards = []\n",
    "        state = fix_state(state)\n",
    "        solved_riddles = []\n",
    "        for t in range(max_t):\n",
    "            \n",
    "            action, log_prob = policy.act(state)\n",
    "            \n",
    "                \n",
    "            saved_log_probs.append(log_prob)\n",
    "            \n",
    "            \n",
    "            action = Actions[action]\n",
    "            last_position = state[:2]\n",
    "            temp = manager.step(agent_id, action)\n",
    "            state = fix_state(state)\n",
    "            \n",
    "            # reward computing\n",
    "            current_position = state[:2]\n",
    "            \n",
    "            if last_position == current_position:\n",
    "                reward = -0.4\n",
    "            if info['riddle_type'] != None and info['riddle_type'] not in solved_riddles:\n",
    "                reward = 1\n",
    "            else:\n",
    "                reward = -0.1\n",
    "\n",
    "            rewards.append(reward)\n",
    "            if terminated:\n",
    "                break \n",
    "            \n",
    "        scores_deque.append(sum(rewards))\n",
    "        scores.append(sum(rewards))\n",
    "        \n",
    "        returns = deque(maxlen=max_t) \n",
    "        n_steps = len(rewards) \n",
    "        \n",
    "        for t in range(n_steps)[::-1]:\n",
    "            disc_return_t = (returns[0] if len(returns)>0 else 0)\n",
    "            returns.appendleft( gamma*disc_return_t + rewards[t]) \n",
    "            \n",
    "        eps = np.finfo(np.float32).eps.item()\n",
    "\n",
    "        returns = torch.tensor(returns)\n",
    "        returns = (returns - returns.mean()) / (returns.std() + eps)\n",
    "        \n",
    "        \n",
    "        policy_loss = []\n",
    "        for log_prob, disc_return in zip(saved_log_probs, returns):\n",
    "            policy_loss.append(-log_prob * disc_return)\n",
    "        policy_loss = torch.cat(policy_loss).sum()\n",
    "        \n",
    "        \n",
    "        optimizer.zero_grad()\n",
    "        policy_loss.backward()\n",
    "        optimizer.step()\n",
    "        \n",
    "        \n",
    "        if episode % print_every == 0:\n",
    "            print('Episode {}\\tAverage Score: {:.2f}'.format(episode, sum(rewards)))\n",
    "        \n",
    "    return scores"
   ]
  },
  {
   "cell_type": "code",
   "execution_count": null,
   "metadata": {},
   "outputs": [],
   "source": [
    "s_size = 14\n",
    "a_size = 4"
   ]
  },
  {
   "cell_type": "code",
   "execution_count": null,
   "metadata": {},
   "outputs": [],
   "source": [
    "maze_hyperparameter = {\n",
    "    \"n_training_episodes\": 100,\n",
    "    \"n_evaluation_episodes\": 10,\n",
    "    \"max_t\": 500,\n",
    "    \"gamma\": .99,\n",
    "    \"lr\": 1e-2,\n",
    "    \"state_space\": s_size,\n",
    "    \"action_space\": a_size,\n",
    "}"
   ]
  },
  {
   "cell_type": "code",
   "execution_count": null,
   "metadata": {},
   "outputs": [
    {
     "ename": "NameError",
     "evalue": "name 'ActorCritic' is not defined",
     "output_type": "error",
     "traceback": [
      "\u001b[1;31m---------------------------------------------------------------------------\u001b[0m",
      "\u001b[1;31mNameError\u001b[0m                                 Traceback (most recent call last)",
      "Cell \u001b[1;32mIn[4], line 1\u001b[0m\n\u001b[1;32m----> 1\u001b[0m maze_policy \u001b[39m=\u001b[39m ActorCritic(maze_hyperparameter[\u001b[39m\"\u001b[39m\u001b[39mstate_space\u001b[39m\u001b[39m\"\u001b[39m], maze_hyperparameter[\u001b[39m\"\u001b[39m\u001b[39maction_space\u001b[39m\u001b[39m\"\u001b[39m])\u001b[39m.\u001b[39mto(device)\n\u001b[0;32m      2\u001b[0m maze_optimizer \u001b[39m=\u001b[39m optim\u001b[39m.\u001b[39mAdam(maze_policy\u001b[39m.\u001b[39mparameters(), lr\u001b[39m=\u001b[39mmaze_hyperparameter[\u001b[39m\"\u001b[39m\u001b[39mlr\u001b[39m\u001b[39m\"\u001b[39m])\n",
      "\u001b[1;31mNameError\u001b[0m: name 'ActorCritic' is not defined"
     ]
    }
   ],
   "source": [
    "maze_policy = ActorCritic(maze_hyperparameter[\"state_space\"], maze_hyperparameter[\"action_space\"]).to(device)\n",
    "maze_optimizer = optim.Adam(maze_policy.parameters(), lr=maze_hyperparameter[\"lr\"])"
   ]
  },
  {
   "cell_type": "code",
   "execution_count": null,
   "metadata": {},
   "outputs": [
    {
     "ename": "ValueError",
     "evalue": "too many values to unpack (expected 4)",
     "output_type": "error",
     "traceback": [
      "\u001b[1;31m---------------------------------------------------------------------------\u001b[0m",
      "\u001b[1;31mValueError\u001b[0m                                Traceback (most recent call last)",
      "Cell \u001b[1;32mIn[10], line 1\u001b[0m\n\u001b[1;32m----> 1\u001b[0m scores \u001b[39m=\u001b[39m reinforce( maze_policy,\n\u001b[0;32m      2\u001b[0m                     maze_optimizer,\n\u001b[0;32m      3\u001b[0m                     maze_hyperparameter[\u001b[39m\"\u001b[39;49m\u001b[39mn_training_episodes\u001b[39;49m\u001b[39m\"\u001b[39;49m], \n\u001b[0;32m      4\u001b[0m                     maze_hyperparameter[\u001b[39m\"\u001b[39;49m\u001b[39mmax_t\u001b[39;49m\u001b[39m\"\u001b[39;49m],\n\u001b[0;32m      5\u001b[0m                     maze_hyperparameter[\u001b[39m\"\u001b[39;49m\u001b[39mgamma\u001b[39;49m\u001b[39m\"\u001b[39;49m], \n\u001b[0;32m      6\u001b[0m                     \u001b[39m10\u001b[39;49m)\n",
      "Cell \u001b[1;32mIn[6], line 22\u001b[0m, in \u001b[0;36mreinforce\u001b[1;34m(policy, optimizer, n_training_episodes, max_t, gamma, print_every)\u001b[0m\n\u001b[0;32m     20\u001b[0m action \u001b[39m=\u001b[39m Actions[action]\n\u001b[0;32m     21\u001b[0m last_position \u001b[39m=\u001b[39m state[:\u001b[39m2\u001b[39m]\n\u001b[1;32m---> 22\u001b[0m state, reward, terminated,truncated, info \u001b[39m=\u001b[39m manager\u001b[39m.\u001b[39;49mstep(agent_id, action)\n\u001b[0;32m     23\u001b[0m state \u001b[39m=\u001b[39m fix_state(state)\n\u001b[0;32m     25\u001b[0m \u001b[39m# reward computing\u001b[39;00m\n",
      "File \u001b[1;32me:\\Dell Winers\\HackTrick23-main\\gym-maze\\gym_maze\\envs\\maze_manager.py:104\u001b[0m, in \u001b[0;36mMazeManager.step\u001b[1;34m(self, agent_id, action)\u001b[0m\n\u001b[0;32m    103\u001b[0m \u001b[39mdef\u001b[39;00m \u001b[39mstep\u001b[39m(\u001b[39mself\u001b[39m, agent_id, action):\n\u001b[1;32m--> 104\u001b[0m     obv, reward, terminated, truncated, info \u001b[39m=\u001b[39m \u001b[39mself\u001b[39;49m\u001b[39m.\u001b[39;49mmaze_map[agent_id]\u001b[39m.\u001b[39;49mstep(action)\n\u001b[0;32m    105\u001b[0m     \u001b[39mif\u001b[39;00m \u001b[39mtuple\u001b[39m(obv[\u001b[39m0\u001b[39m]) \u001b[39min\u001b[39;00m \u001b[39mself\u001b[39m\u001b[39m.\u001b[39mrescue_items_dict:\n\u001b[0;32m    106\u001b[0m         riddle_type \u001b[39m=\u001b[39m \u001b[39mself\u001b[39m\u001b[39m.\u001b[39mrescue_items_dict[\u001b[39mtuple\u001b[39m(obv[\u001b[39m0\u001b[39m])]\n",
      "File \u001b[1;32mc:\\Program Files\\Python310\\lib\\site-packages\\gym\\wrappers\\time_limit.py:18\u001b[0m, in \u001b[0;36mTimeLimit.step\u001b[1;34m(self, action)\u001b[0m\n\u001b[0;32m     14\u001b[0m \u001b[39mdef\u001b[39;00m \u001b[39mstep\u001b[39m(\u001b[39mself\u001b[39m, action):\n\u001b[0;32m     15\u001b[0m     \u001b[39massert\u001b[39;00m (\n\u001b[0;32m     16\u001b[0m         \u001b[39mself\u001b[39m\u001b[39m.\u001b[39m_elapsed_steps \u001b[39mis\u001b[39;00m \u001b[39mnot\u001b[39;00m \u001b[39mNone\u001b[39;00m\n\u001b[0;32m     17\u001b[0m     ), \u001b[39m\"\u001b[39m\u001b[39mCannot call env.step() before calling reset()\u001b[39m\u001b[39m\"\u001b[39m\n\u001b[1;32m---> 18\u001b[0m     observation, reward, done, info \u001b[39m=\u001b[39m \u001b[39mself\u001b[39m\u001b[39m.\u001b[39menv\u001b[39m.\u001b[39mstep(action)\n\u001b[0;32m     19\u001b[0m     \u001b[39mself\u001b[39m\u001b[39m.\u001b[39m_elapsed_steps \u001b[39m+\u001b[39m\u001b[39m=\u001b[39m \u001b[39m1\u001b[39m\n\u001b[0;32m     20\u001b[0m     \u001b[39mif\u001b[39;00m \u001b[39mself\u001b[39m\u001b[39m.\u001b[39m_elapsed_steps \u001b[39m>\u001b[39m\u001b[39m=\u001b[39m \u001b[39mself\u001b[39m\u001b[39m.\u001b[39m_max_episode_steps:\n",
      "\u001b[1;31mValueError\u001b[0m: too many values to unpack (expected 4)"
     ]
    }
   ],
   "source": [
    "scores = reinforce( maze_policy,\n",
    "                    maze_optimizer,\n",
    "                    maze_hyperparameter[\"n_training_episodes\"], \n",
    "                    maze_hyperparameter[\"max_t\"],\n",
    "                    maze_hyperparameter[\"gamma\"], \n",
    "                    10)"
   ]
  },
  {
   "cell_type": "code",
   "execution_count": null,
   "metadata": {},
   "outputs": [],
   "source": []
  }
 ],
 "metadata": {
  "kernelspec": {
   "display_name": "Python 3",
   "language": "python",
   "name": "python3"
  },
  "language_info": {
   "codemirror_mode": {
    "name": "ipython",
    "version": 3
   },
   "file_extension": ".py",
   "mimetype": "text/x-python",
   "name": "python",
   "nbconvert_exporter": "python",
   "pygments_lexer": "ipython3",
   "version": "3.10.0"
  },
  "orig_nbformat": 4
 },
 "nbformat": 4,
 "nbformat_minor": 2
}
