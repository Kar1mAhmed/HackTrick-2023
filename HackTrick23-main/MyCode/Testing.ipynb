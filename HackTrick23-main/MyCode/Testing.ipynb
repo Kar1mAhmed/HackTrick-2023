{
 "cells": [
  {
   "cell_type": "code",
   "execution_count": 1,
   "metadata": {},
   "outputs": [],
   "source": [
    "import sys\n",
    "import numpy as np\n",
    "import math\n",
    "import random\n",
    "import json\n",
    "import requests\n",
    "\n",
    "import gym\n",
    "import gym_maze\n",
    "from gym_maze.envs.maze_manager import MazeManager\n",
    "from riddle_solvers import *\n",
    "\n",
    "import torch\n",
    "import pygame\n",
    "import time\n",
    "from collections import deque\n",
    "import torch.nn as nn\n",
    "import torch.nn.functional as F\n",
    "import torch.optim as optim\n",
    "from torch.distributions import Categorical"
   ]
  },
  {
   "cell_type": "code",
   "execution_count": 2,
   "metadata": {},
   "outputs": [
    {
     "data": {
      "text/plain": [
       "'NVIDIA GeForce RTX 3050 Laptop GPU'"
      ]
     },
     "execution_count": 2,
     "metadata": {},
     "output_type": "execute_result"
    }
   ],
   "source": [
    "device = torch.device(\"cuda:0\" if torch.cuda.is_available() else \"cpu\")\n",
    "device_name = torch.cuda.get_device_name(torch.cuda.current_device())\n",
    "device_name"
   ]
  },
  {
   "cell_type": "code",
   "execution_count": 3,
   "metadata": {},
   "outputs": [],
   "source": [
    "def flat_obv(obv):\n",
    "    flattened = []\n",
    "    for dim in obv:\n",
    "        for arr in dim:\n",
    "            if isinstance(arr, list):\n",
    "                for item in arr:\n",
    "                    flattened.append(item)\n",
    "            else:\n",
    "                flattened.append(arr)\n",
    "    return flattened"
   ]
  },
  {
   "cell_type": "code",
   "execution_count": 4,
   "metadata": {},
   "outputs": [],
   "source": [
    "class policy(nn.Module):\n",
    "    def __init__(self, s_size, a_size, h_size1,h_size2) -> None:\n",
    "        super().__init__() # calling the super class\n",
    "        \n",
    "        #Network layers \n",
    "        self.L1 = nn.Linear(s_size, h_size1)\n",
    "        self.L2 = nn.Linear(h_size1, h_size2)\n",
    "        self.L3 = nn.Linear(h_size2, a_size)\n",
    "    \n",
    "    def forward(self, x):\n",
    "        # the forward pass of the network\n",
    "        x = F.relu(self.L1(x))\n",
    "        x = F.relu(self.L2(x))\n",
    "        x = self.L3(x)\n",
    "        x = F.softmax(x,dim=1)\n",
    "        return x\n",
    "    \n",
    "    \n",
    "    def act(self, state):\n",
    "        state = torch.from_numpy(state).float().unsqueeze(0).to(device) # setting the state to tensor with the input shape\n",
    "        probs = self.forward(state).cpu()\n",
    "        m = Categorical(probs)\n",
    "        action = m.sample()\n",
    "        return action.item(), m.log_prob(action)\n",
    "    "
   ]
  },
  {
   "cell_type": "code",
   "execution_count": 5,
   "metadata": {},
   "outputs": [],
   "source": [
    "s_size = 14\n",
    "a_size = 4"
   ]
  },
  {
   "cell_type": "code",
   "execution_count": 6,
   "metadata": {},
   "outputs": [],
   "source": [
    "maze_hyper = {\n",
    "    \"h_size1\": 16,\n",
    "    \"h_size2\": 32,\n",
    "    \"h_size3\" : 16,\n",
    "    \"n_training_episodes\": 1000,\n",
    "    \"n_evaluation_episodes\": 10,\n",
    "    \"max_t\": 5000,\n",
    "    \"gamma\": 1.0,\n",
    "    \"lr\": 1e-2,\n",
    "    \"state_space\": s_size,\n",
    "    \"action_space\": a_size,\n",
    "}"
   ]
  },
  {
   "cell_type": "code",
   "execution_count": 7,
   "metadata": {},
   "outputs": [],
   "source": [
    "maze_policy = policy(maze_hyper[\"state_space\"], maze_hyper[\"action_space\"], maze_hyper[\"h_size2\"], maze_hyper[\"h_size3\"]).to(device)"
   ]
  },
  {
   "cell_type": "code",
   "execution_count": 17,
   "metadata": {},
   "outputs": [],
   "source": [
    "def reinforce(policy, optimizer, n_training_episodes, max_t, gamma, print_every):\n",
    "    \n",
    "    actions = ['N', 'S', 'E', 'W']\n",
    "    sample_maze = np.load(\"hackathon_sample.npy\")\n",
    "    agent_id = \"9\" # add your agent id here\n",
    "    \n",
    "    manager = MazeManager()\n",
    "    manager.init_maze(agent_id, maze_cells = sample_maze)\n",
    "    env = manager.maze_map[agent_id]\n",
    "\n",
    "    \n",
    "    for i_episode in range(1, n_training_episodes+1):\n",
    "        state = manager.reset(agent_id)\n",
    "        num_of_actions = 0\n",
    "        for t in range(max_t):\n",
    "            state = flat_obv(state)\n",
    "            num_of_actions+=1\n",
    "            state = np.array(state)\n",
    "            action, log_prob = policy.act(state)\n",
    "            action = actions[action]\n",
    "            state, reward, done, truncated, info = manager.step(agent_id, action)\n",
    "            \n",
    "            if done:\n",
    "                break\n",
    "        state = flat_obv(state)\n",
    "        print(state)\n",
    "        num_of_reached_riddles  = 0\n",
    "        \n",
    "        for i in range(2,6):\n",
    "            if state[i] == -1:\n",
    "                num_of_reached_riddles += 1\n",
    "        \n",
    "        score = (num_of_reached_riddles * 1000) / num_of_actions\n",
    "        \n",
    "        if state[0] != 9 or state[1] != 9:\n",
    "            score *= .8\n",
    "        \n",
    "        policy_loss = -score\n",
    "\n",
    "        \n",
    "        optimizer.zero_grad()\n",
    "        policy_loss.backward()\n",
    "        optimizer.step()\n",
    "        \n",
    "        if i_episode / print_every == 0 :\n",
    "            print(score)"
   ]
  },
  {
   "cell_type": "code",
   "execution_count": 18,
   "metadata": {},
   "outputs": [],
   "source": [
    "maze_optimizer = optim.Adam(maze_policy.parameters(), lr=maze_hyper[\"lr\"])"
   ]
  },
  {
   "cell_type": "code",
   "execution_count": 19,
   "metadata": {},
   "outputs": [
    {
     "name": "stdout",
     "output_type": "stream",
     "text": [
      "[6, 0, 9, 9, 7, 12, 1, 1, -1, 1, -1, 1, -1, 1]\n"
     ]
    },
    {
     "ename": "AttributeError",
     "evalue": "'float' object has no attribute 'backward'",
     "output_type": "error",
     "traceback": [
      "\u001b[1;31m---------------------------------------------------------------------------\u001b[0m",
      "\u001b[1;31mAttributeError\u001b[0m                            Traceback (most recent call last)",
      "Cell \u001b[1;32mIn[19], line 1\u001b[0m\n\u001b[1;32m----> 1\u001b[0m reinforce(          maze_policy,\n\u001b[0;32m      2\u001b[0m                     maze_optimizer,\n\u001b[0;32m      3\u001b[0m                     maze_hyper[\u001b[39m\"\u001b[39;49m\u001b[39mn_training_episodes\u001b[39;49m\u001b[39m\"\u001b[39;49m], \n\u001b[0;32m      4\u001b[0m                     maze_hyper[\u001b[39m\"\u001b[39;49m\u001b[39mmax_t\u001b[39;49m\u001b[39m\"\u001b[39;49m],\n\u001b[0;32m      5\u001b[0m                     maze_hyper[\u001b[39m\"\u001b[39;49m\u001b[39mgamma\u001b[39;49m\u001b[39m\"\u001b[39;49m], \n\u001b[0;32m      6\u001b[0m                     \u001b[39m100\u001b[39;49m)\n",
      "Cell \u001b[1;32mIn[17], line 42\u001b[0m, in \u001b[0;36mreinforce\u001b[1;34m(policy, optimizer, n_training_episodes, max_t, gamma, print_every)\u001b[0m\n\u001b[0;32m     38\u001b[0m policy_loss \u001b[39m=\u001b[39m \u001b[39m-\u001b[39mscore\n\u001b[0;32m     41\u001b[0m optimizer\u001b[39m.\u001b[39mzero_grad()\n\u001b[1;32m---> 42\u001b[0m policy_loss\u001b[39m.\u001b[39;49mbackward()\n\u001b[0;32m     43\u001b[0m optimizer\u001b[39m.\u001b[39mstep()\n\u001b[0;32m     45\u001b[0m \u001b[39mif\u001b[39;00m i_episode \u001b[39m/\u001b[39m print_every \u001b[39m==\u001b[39m \u001b[39m0\u001b[39m :\n",
      "\u001b[1;31mAttributeError\u001b[0m: 'float' object has no attribute 'backward'"
     ]
    },
    {
     "ename": "",
     "evalue": "",
     "output_type": "error",
     "traceback": [
      "\u001b[1;31mThe Kernel crashed while executing code in the the current cell or a previous cell. Please review the code in the cell(s) to identify a possible cause of the failure. Click <a href='https://aka.ms/vscodeJupyterKernelCrash'>here</a> for more info. View Jupyter <a href='command:jupyter.viewOutput'>log</a> for further details."
     ]
    }
   ],
   "source": [
    "reinforce(          maze_policy,\n",
    "                    maze_optimizer,\n",
    "                    maze_hyper[\"n_training_episodes\"], \n",
    "                    maze_hyper[\"max_t\"],\n",
    "                    maze_hyper[\"gamma\"], \n",
    "                    100)"
   ]
  },
  {
   "cell_type": "code",
   "execution_count": null,
   "metadata": {},
   "outputs": [],
   "source": []
  }
 ],
 "metadata": {
  "kernelspec": {
   "display_name": "Python 3",
   "language": "python",
   "name": "python3"
  },
  "language_info": {
   "codemirror_mode": {
    "name": "ipython",
    "version": 3
   },
   "file_extension": ".py",
   "mimetype": "text/x-python",
   "name": "python",
   "nbconvert_exporter": "python",
   "pygments_lexer": "ipython3",
   "version": "3.10.10"
  },
  "orig_nbformat": 4
 },
 "nbformat": 4,
 "nbformat_minor": 2
}
