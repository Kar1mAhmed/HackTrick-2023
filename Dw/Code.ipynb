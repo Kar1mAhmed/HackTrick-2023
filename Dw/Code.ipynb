{
 "cells": [
  {
   "cell_type": "code",
   "execution_count": 1,
   "metadata": {},
   "outputs": [],
   "source": [
    "import pandas as pd \n",
    "import numpy as np\n",
    "import matplotlib.pyplot as plt\n",
    "import seaborn as sns"
   ]
  },
  {
   "cell_type": "code",
   "execution_count": 2,
   "metadata": {},
   "outputs": [
    {
     "data": {
      "text/html": [
       "<div>\n",
       "<style scoped>\n",
       "    .dataframe tbody tr th:only-of-type {\n",
       "        vertical-align: middle;\n",
       "    }\n",
       "\n",
       "    .dataframe tbody tr th {\n",
       "        vertical-align: top;\n",
       "    }\n",
       "\n",
       "    .dataframe thead th {\n",
       "        text-align: right;\n",
       "    }\n",
       "</style>\n",
       "<table border=\"1\" class=\"dataframe\">\n",
       "  <thead>\n",
       "    <tr style=\"text-align: right;\">\n",
       "      <th></th>\n",
       "      <th>Price</th>\n",
       "      <th>Bedroom</th>\n",
       "      <th>Space</th>\n",
       "      <th>Room</th>\n",
       "      <th>Lot</th>\n",
       "      <th>Tax</th>\n",
       "      <th>Bathroom</th>\n",
       "      <th>Garage</th>\n",
       "      <th>Condition</th>\n",
       "    </tr>\n",
       "  </thead>\n",
       "  <tbody>\n",
       "    <tr>\n",
       "      <th>0</th>\n",
       "      <td>53.0</td>\n",
       "      <td>2.0</td>\n",
       "      <td>967.0</td>\n",
       "      <td>5.0</td>\n",
       "      <td>39.0</td>\n",
       "      <td>652.0</td>\n",
       "      <td>1.5</td>\n",
       "      <td>0.0</td>\n",
       "      <td>0.0</td>\n",
       "    </tr>\n",
       "    <tr>\n",
       "      <th>1</th>\n",
       "      <td>55.0</td>\n",
       "      <td>2.0</td>\n",
       "      <td>815.0</td>\n",
       "      <td>5.0</td>\n",
       "      <td>33.0</td>\n",
       "      <td>1000.0</td>\n",
       "      <td>1.0</td>\n",
       "      <td>2.0</td>\n",
       "      <td>1.0</td>\n",
       "    </tr>\n",
       "    <tr>\n",
       "      <th>2</th>\n",
       "      <td>56.0</td>\n",
       "      <td>3.0</td>\n",
       "      <td>900.0</td>\n",
       "      <td>5.0</td>\n",
       "      <td>35.0</td>\n",
       "      <td>897.0</td>\n",
       "      <td>1.5</td>\n",
       "      <td>1.0</td>\n",
       "      <td>0.0</td>\n",
       "    </tr>\n",
       "    <tr>\n",
       "      <th>3</th>\n",
       "      <td>58.0</td>\n",
       "      <td>3.0</td>\n",
       "      <td>1007.0</td>\n",
       "      <td>6.0</td>\n",
       "      <td>24.0</td>\n",
       "      <td>964.0</td>\n",
       "      <td>1.5</td>\n",
       "      <td>2.0</td>\n",
       "      <td>0.0</td>\n",
       "    </tr>\n",
       "    <tr>\n",
       "      <th>4</th>\n",
       "      <td>64.0</td>\n",
       "      <td>3.0</td>\n",
       "      <td>1100.0</td>\n",
       "      <td>7.0</td>\n",
       "      <td>50.0</td>\n",
       "      <td>1099.0</td>\n",
       "      <td>1.5</td>\n",
       "      <td>1.5</td>\n",
       "      <td>0.0</td>\n",
       "    </tr>\n",
       "  </tbody>\n",
       "</table>\n",
       "</div>"
      ],
      "text/plain": [
       "   Price  Bedroom   Space  Room   Lot     Tax  Bathroom  Garage  Condition\n",
       "0   53.0      2.0   967.0   5.0  39.0   652.0       1.5     0.0        0.0\n",
       "1   55.0      2.0   815.0   5.0  33.0  1000.0       1.0     2.0        1.0\n",
       "2   56.0      3.0   900.0   5.0  35.0   897.0       1.5     1.0        0.0\n",
       "3   58.0      3.0  1007.0   6.0  24.0   964.0       1.5     2.0        0.0\n",
       "4   64.0      3.0  1100.0   7.0  50.0  1099.0       1.5     1.5        0.0"
      ]
     },
     "execution_count": 2,
     "metadata": {},
     "output_type": "execute_result"
    }
   ],
   "source": [
    "df = pd.read_csv(\"realest.csv\")\n",
    "df.head()"
   ]
  },
  {
   "cell_type": "code",
   "execution_count": 3,
   "metadata": {},
   "outputs": [
    {
     "data": {
      "text/html": [
       "<div>\n",
       "<style scoped>\n",
       "    .dataframe tbody tr th:only-of-type {\n",
       "        vertical-align: middle;\n",
       "    }\n",
       "\n",
       "    .dataframe tbody tr th {\n",
       "        vertical-align: top;\n",
       "    }\n",
       "\n",
       "    .dataframe thead th {\n",
       "        text-align: right;\n",
       "    }\n",
       "</style>\n",
       "<table border=\"1\" class=\"dataframe\">\n",
       "  <thead>\n",
       "    <tr style=\"text-align: right;\">\n",
       "      <th></th>\n",
       "      <th>Price</th>\n",
       "      <th>Bedroom</th>\n",
       "      <th>Space</th>\n",
       "      <th>Room</th>\n",
       "      <th>Lot</th>\n",
       "      <th>Tax</th>\n",
       "      <th>Bathroom</th>\n",
       "      <th>Garage</th>\n",
       "      <th>Condition</th>\n",
       "    </tr>\n",
       "  </thead>\n",
       "  <tbody>\n",
       "    <tr>\n",
       "      <th>count</th>\n",
       "      <td>156.000000</td>\n",
       "      <td>156.000000</td>\n",
       "      <td>146.000000</td>\n",
       "      <td>156.000000</td>\n",
       "      <td>146.000000</td>\n",
       "      <td>147.000000</td>\n",
       "      <td>156.000000</td>\n",
       "      <td>156.000000</td>\n",
       "      <td>156.000000</td>\n",
       "    </tr>\n",
       "    <tr>\n",
       "      <th>mean</th>\n",
       "      <td>56.474359</td>\n",
       "      <td>3.166667</td>\n",
       "      <td>1097.246575</td>\n",
       "      <td>6.500000</td>\n",
       "      <td>32.808219</td>\n",
       "      <td>911.707483</td>\n",
       "      <td>1.480769</td>\n",
       "      <td>0.846154</td>\n",
       "      <td>0.230769</td>\n",
       "    </tr>\n",
       "    <tr>\n",
       "      <th>std</th>\n",
       "      <td>12.875307</td>\n",
       "      <td>1.348037</td>\n",
       "      <td>462.540698</td>\n",
       "      <td>1.675247</td>\n",
       "      <td>8.457859</td>\n",
       "      <td>443.263430</td>\n",
       "      <td>0.529408</td>\n",
       "      <td>0.808454</td>\n",
       "      <td>0.422682</td>\n",
       "    </tr>\n",
       "    <tr>\n",
       "      <th>min</th>\n",
       "      <td>32.000000</td>\n",
       "      <td>1.000000</td>\n",
       "      <td>539.000000</td>\n",
       "      <td>4.000000</td>\n",
       "      <td>24.000000</td>\n",
       "      <td>418.000000</td>\n",
       "      <td>1.000000</td>\n",
       "      <td>0.000000</td>\n",
       "      <td>0.000000</td>\n",
       "    </tr>\n",
       "    <tr>\n",
       "      <th>25%</th>\n",
       "      <td>46.000000</td>\n",
       "      <td>2.000000</td>\n",
       "      <td>805.250000</td>\n",
       "      <td>5.000000</td>\n",
       "      <td>25.000000</td>\n",
       "      <td>652.500000</td>\n",
       "      <td>1.000000</td>\n",
       "      <td>0.000000</td>\n",
       "      <td>0.000000</td>\n",
       "    </tr>\n",
       "    <tr>\n",
       "      <th>50%</th>\n",
       "      <td>55.000000</td>\n",
       "      <td>3.000000</td>\n",
       "      <td>965.500000</td>\n",
       "      <td>6.000000</td>\n",
       "      <td>30.000000</td>\n",
       "      <td>821.000000</td>\n",
       "      <td>1.500000</td>\n",
       "      <td>1.000000</td>\n",
       "      <td>0.000000</td>\n",
       "    </tr>\n",
       "    <tr>\n",
       "      <th>75%</th>\n",
       "      <td>65.000000</td>\n",
       "      <td>4.000000</td>\n",
       "      <td>1220.500000</td>\n",
       "      <td>7.000000</td>\n",
       "      <td>37.000000</td>\n",
       "      <td>1012.500000</td>\n",
       "      <td>2.000000</td>\n",
       "      <td>1.500000</td>\n",
       "      <td>0.000000</td>\n",
       "    </tr>\n",
       "    <tr>\n",
       "      <th>max</th>\n",
       "      <td>90.000000</td>\n",
       "      <td>8.000000</td>\n",
       "      <td>2295.000000</td>\n",
       "      <td>12.000000</td>\n",
       "      <td>50.000000</td>\n",
       "      <td>2752.000000</td>\n",
       "      <td>3.000000</td>\n",
       "      <td>2.000000</td>\n",
       "      <td>1.000000</td>\n",
       "    </tr>\n",
       "  </tbody>\n",
       "</table>\n",
       "</div>"
      ],
      "text/plain": [
       "            Price     Bedroom        Space        Room         Lot  \\\n",
       "count  156.000000  156.000000   146.000000  156.000000  146.000000   \n",
       "mean    56.474359    3.166667  1097.246575    6.500000   32.808219   \n",
       "std     12.875307    1.348037   462.540698    1.675247    8.457859   \n",
       "min     32.000000    1.000000   539.000000    4.000000   24.000000   \n",
       "25%     46.000000    2.000000   805.250000    5.000000   25.000000   \n",
       "50%     55.000000    3.000000   965.500000    6.000000   30.000000   \n",
       "75%     65.000000    4.000000  1220.500000    7.000000   37.000000   \n",
       "max     90.000000    8.000000  2295.000000   12.000000   50.000000   \n",
       "\n",
       "               Tax    Bathroom      Garage   Condition  \n",
       "count   147.000000  156.000000  156.000000  156.000000  \n",
       "mean    911.707483    1.480769    0.846154    0.230769  \n",
       "std     443.263430    0.529408    0.808454    0.422682  \n",
       "min     418.000000    1.000000    0.000000    0.000000  \n",
       "25%     652.500000    1.000000    0.000000    0.000000  \n",
       "50%     821.000000    1.500000    1.000000    0.000000  \n",
       "75%    1012.500000    2.000000    1.500000    0.000000  \n",
       "max    2752.000000    3.000000    2.000000    1.000000  "
      ]
     },
     "execution_count": 3,
     "metadata": {},
     "output_type": "execute_result"
    }
   ],
   "source": [
    "df.describe()"
   ]
  },
  {
   "cell_type": "code",
   "execution_count": 7,
   "metadata": {},
   "outputs": [
    {
     "data": {
      "text/plain": [
       "Space        0.070064\n",
       "Lot          0.070064\n",
       "Tax          0.063694\n",
       "Price        0.006369\n",
       "Bedroom      0.006369\n",
       "Room         0.006369\n",
       "Bathroom     0.006369\n",
       "Garage       0.006369\n",
       "Condition    0.006369\n",
       "dtype: float64"
      ]
     },
     "execution_count": 7,
     "metadata": {},
     "output_type": "execute_result"
    }
   ],
   "source": [
    "df.isnull().mean().sort_values(ascending=False)"
   ]
  },
  {
   "cell_type": "code",
   "execution_count": 12,
   "metadata": {},
   "outputs": [
    {
     "data": {
      "text/plain": [
       "Price          56.474359\n",
       "Bedroom         3.166667\n",
       "Space        1097.246575\n",
       "Room            6.500000\n",
       "Lot            32.808219\n",
       "Tax           911.707483\n",
       "Bathroom        1.480769\n",
       "Garage          0.846154\n",
       "Condition       0.230769\n",
       "dtype: float64"
      ]
     },
     "execution_count": 12,
     "metadata": {},
     "output_type": "execute_result"
    }
   ],
   "source": [
    "stat_mean = df.mean()\n",
    "stat_mean "
   ]
  },
  {
   "cell_type": "code",
   "execution_count": 13,
   "metadata": {},
   "outputs": [
    {
     "data": {
      "text/plain": [
       "Price         55.0\n",
       "Bedroom        3.0\n",
       "Space        965.5\n",
       "Room           6.0\n",
       "Lot           30.0\n",
       "Tax          821.0\n",
       "Bathroom       1.5\n",
       "Garage         1.0\n",
       "Condition      0.0\n",
       "dtype: float64"
      ]
     },
     "execution_count": 13,
     "metadata": {},
     "output_type": "execute_result"
    }
   ],
   "source": [
    "stat_median = df.median()\n",
    "stat_median"
   ]
  },
  {
   "cell_type": "code",
   "execution_count": 15,
   "metadata": {},
   "outputs": [
    {
     "data": {
      "text/html": [
       "<div>\n",
       "<style scoped>\n",
       "    .dataframe tbody tr th:only-of-type {\n",
       "        vertical-align: middle;\n",
       "    }\n",
       "\n",
       "    .dataframe tbody tr th {\n",
       "        vertical-align: top;\n",
       "    }\n",
       "\n",
       "    .dataframe thead th {\n",
       "        text-align: right;\n",
       "    }\n",
       "</style>\n",
       "<table border=\"1\" class=\"dataframe\">\n",
       "  <thead>\n",
       "    <tr style=\"text-align: right;\">\n",
       "      <th></th>\n",
       "      <th>Price</th>\n",
       "      <th>Bedroom</th>\n",
       "      <th>Space</th>\n",
       "      <th>Room</th>\n",
       "      <th>Lot</th>\n",
       "      <th>Tax</th>\n",
       "      <th>Bathroom</th>\n",
       "      <th>Garage</th>\n",
       "      <th>Condition</th>\n",
       "    </tr>\n",
       "  </thead>\n",
       "  <tbody>\n",
       "    <tr>\n",
       "      <th>23</th>\n",
       "      <td>46.0</td>\n",
       "      <td>2.0</td>\n",
       "      <td>696.0</td>\n",
       "      <td>4.0</td>\n",
       "      <td>30.0</td>\n",
       "      <td>440.0</td>\n",
       "      <td>2.0</td>\n",
       "      <td>1.0</td>\n",
       "      <td>0.0</td>\n",
       "    </tr>\n",
       "    <tr>\n",
       "      <th>49</th>\n",
       "      <td>45.0</td>\n",
       "      <td>2.0</td>\n",
       "      <td>NaN</td>\n",
       "      <td>4.0</td>\n",
       "      <td>30.0</td>\n",
       "      <td>470.0</td>\n",
       "      <td>2.0</td>\n",
       "      <td>1.0</td>\n",
       "      <td>0.0</td>\n",
       "    </tr>\n",
       "    <tr>\n",
       "      <th>75</th>\n",
       "      <td>43.0</td>\n",
       "      <td>2.0</td>\n",
       "      <td>NaN</td>\n",
       "      <td>4.0</td>\n",
       "      <td>30.0</td>\n",
       "      <td>425.0</td>\n",
       "      <td>2.0</td>\n",
       "      <td>1.0</td>\n",
       "      <td>0.0</td>\n",
       "    </tr>\n",
       "    <tr>\n",
       "      <th>101</th>\n",
       "      <td>47.0</td>\n",
       "      <td>2.0</td>\n",
       "      <td>766.0</td>\n",
       "      <td>4.0</td>\n",
       "      <td>30.0</td>\n",
       "      <td>418.0</td>\n",
       "      <td>2.0</td>\n",
       "      <td>1.0</td>\n",
       "      <td>0.0</td>\n",
       "    </tr>\n",
       "    <tr>\n",
       "      <th>127</th>\n",
       "      <td>44.0</td>\n",
       "      <td>2.0</td>\n",
       "      <td>705.0</td>\n",
       "      <td>4.0</td>\n",
       "      <td>NaN</td>\n",
       "      <td>NaN</td>\n",
       "      <td>2.0</td>\n",
       "      <td>1.0</td>\n",
       "      <td>0.0</td>\n",
       "    </tr>\n",
       "    <tr>\n",
       "      <th>153</th>\n",
       "      <td>43.0</td>\n",
       "      <td>2.0</td>\n",
       "      <td>593.0</td>\n",
       "      <td>4.0</td>\n",
       "      <td>30.0</td>\n",
       "      <td>465.0</td>\n",
       "      <td>2.0</td>\n",
       "      <td>1.0</td>\n",
       "      <td>0.0</td>\n",
       "    </tr>\n",
       "  </tbody>\n",
       "</table>\n",
       "</div>"
      ],
      "text/plain": [
       "     Price  Bedroom  Space  Room   Lot    Tax  Bathroom  Garage  Condition\n",
       "23    46.0      2.0  696.0   4.0  30.0  440.0       2.0     1.0        0.0\n",
       "49    45.0      2.0    NaN   4.0  30.0  470.0       2.0     1.0        0.0\n",
       "75    43.0      2.0    NaN   4.0  30.0  425.0       2.0     1.0        0.0\n",
       "101   47.0      2.0  766.0   4.0  30.0  418.0       2.0     1.0        0.0\n",
       "127   44.0      2.0  705.0   4.0   NaN    NaN       2.0     1.0        0.0\n",
       "153   43.0      2.0  593.0   4.0  30.0  465.0       2.0     1.0        0.0"
      ]
     },
     "execution_count": 15,
     "metadata": {},
     "output_type": "execute_result"
    }
   ],
   "source": [
    "filtered_df = df[(df[\"Room\"] == 4) & (df[\"Bathroom\"] == 2)]\n",
    "filtered_df"
   ]
  },
  {
   "cell_type": "code",
   "execution_count": 30,
   "metadata": {},
   "outputs": [
    {
     "data": {
      "text/plain": [
       "418.0"
      ]
     },
     "execution_count": 30,
     "metadata": {},
     "output_type": "execute_result"
    }
   ],
   "source": [
    "mean_Tax_filtered = filtered_df[\"Tax\"].mean()\n",
    "median_Tax_filtered = filtered_df[\"Tax\"].median()\n",
    "std_Tax_filtered = filtered_df[\"Tax\"].std()\n",
    "max_Tax_filtered = filtered_df[\"Tax\"].max()\n",
    "min_Tax_filtered = filtered_df[\"Tax\"].min()\n",
    "min_Tax_filtered"
   ]
  },
  {
   "cell_type": "code",
   "execution_count": 33,
   "metadata": {},
   "outputs": [
    {
     "data": {
      "text/plain": [
       "count      5.000000\n",
       "mean     443.600000\n",
       "std       23.287336\n",
       "min      418.000000\n",
       "25%      425.000000\n",
       "50%      440.000000\n",
       "75%      465.000000\n",
       "max      470.000000\n",
       "Name: Tax, dtype: float64"
      ]
     },
     "execution_count": 33,
     "metadata": {},
     "output_type": "execute_result"
    }
   ],
   "source": [
    "filtered_df[\"Tax\"].describe()"
   ]
  },
  {
   "cell_type": "code",
   "execution_count": null,
   "metadata": {},
   "outputs": [],
   "source": [
    "df[df[\"Space\"]>800] \n",
    "rslt_df = df.sort_values(by = 'Price', ascending = False) \n",
    "rslt_df"
   ]
  }
 ],
 "metadata": {
  "kernelspec": {
   "display_name": "Python 3",
   "language": "python",
   "name": "python3"
  },
  "language_info": {
   "codemirror_mode": {
    "name": "ipython",
    "version": 3
   },
   "file_extension": ".py",
   "mimetype": "text/x-python",
   "name": "python",
   "nbconvert_exporter": "python",
   "pygments_lexer": "ipython3",
   "version": "3.11.1"
  },
  "orig_nbformat": 4,
  "vscode": {
   "interpreter": {
    "hash": "23bcd1416b8ef8a78378e8512b07e18b10ad7227044898f8bd80f73751a7a060"
   }
  }
 },
 "nbformat": 4,
 "nbformat_minor": 2
}
